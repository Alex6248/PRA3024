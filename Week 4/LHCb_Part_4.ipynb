{
  "nbformat": 4,
  "nbformat_minor": 0,
  "metadata": {
    "colab": {
      "name": "LHCb_Part_4.ipynb",
      "provenance": [],
      "authorship_tag": "ABX9TyM77GbRGZaiYkR0AhZpCDaj"
    },
    "kernelspec": {
      "name": "python3",
      "display_name": "Python 3"
    }
  },
  "cells": [
    {
      "cell_type": "markdown",
      "metadata": {
        "id": "duw43Wntxl2a",
        "colab_type": "text"
      },
      "source": [
        "# Combining the Dalitz plot to find CPV effects\n",
        "\n",
        "We can now use the Dalitz plot to both conclude something about our physical processes and simultaneously search for effects in this way of dividing the results.\n",
        "\n",
        "The small bins in the Dalitz plot make it very easy to spot small and localised effects. \n",
        "\n",
        "In our Dalitz plot, look for an increase in signal corresponding to the D<sub>0</sub> meson. This is a particle which contains a charm quark - and in our analysis we want to explicitly avoid this process. \n",
        "\n",
        "So using our Dalitz plots, we should make a rule for our pre-selection to remove these events from the data. "
      ]
    },
    {
      "cell_type": "code",
      "metadata": {
        "id": "0sBcOD_ow9qJ",
        "colab_type": "code",
        "colab": {}
      },
      "source": [
        "#Here, apply your new total preselection rule and then make the Dalitz plot here again - verify that the D_0's are removed."
      ],
      "execution_count": 0,
      "outputs": []
    },
    {
      "cell_type": "markdown",
      "metadata": {
        "id": "DhuztpuMz2i5",
        "colab_type": "text"
      },
      "source": [
        "We could take the whole Dalitz plot and in each cell of the histogram, find the value for A (the assymetry) in that small area of phase space.\n",
        "\n",
        "To do this over a very finely binned histogram probably would find some results, but they would all be statistically insignificant because the number of decays in each bin is small. So, we should first coarsen the bins of the histogram (into something around 2.5-4.0 $\\frac{GeV^2}{C^4}$)\n",
        "\n",
        "Then, for each bin of the histogram, calculate the asymmetry value for each bin, and then plot that into a new histogram. This will show us whether there are some palces which contain CPV effects. "
      ]
    },
    {
      "cell_type": "code",
      "metadata": {
        "id": "Wv8sYyYGz1zN",
        "colab_type": "code",
        "colab": {}
      },
      "source": [
        "#Coarsen the histogram and then make a new plot of the assymetry."
      ],
      "execution_count": 0,
      "outputs": []
    },
    {
      "cell_type": "code",
      "metadata": {
        "id": "spfSEL8V1vTD",
        "colab_type": "code",
        "colab": {}
      },
      "source": [
        "#Finally, calculate the statistical uncertainty within each of the bins of the plot"
      ],
      "execution_count": 0,
      "outputs": []
    },
    {
      "cell_type": "markdown",
      "metadata": {
        "id": "wydyRggg2Efu",
        "colab_type": "text"
      },
      "source": [
        "If everything went well, we should now have some evidence that in certain kinematic regions of our decays, there is an asymmetry between matter and anti-matter production rates. This might be an indication for why we have matter in the Universe. Congrats!\n",
        "\n",
        "There are a number of (optional) things to now do:-\n",
        "\n",
        "\n",
        "\n",
        "*   Select the particles which fall into the significantly different bins in the Dalitz plane and make a plot of their masses when you reconstruct the B<sup>+/-</sup> meson. Compare the plots of the B<sup>+</sup> and the B<sup>-</sup> on the same graph. Are they significantly different?\n",
        "*  One explanation for the effect *might* be a detector effect. This means we might treat particles and anti-particles differently. For this reason, we turn the magnet polarity half way through data-taking and always record our data seperately. So in order to verify this, we need to check the two datasets - the magnet up data (which we used so far) and the magnet down data (available here http://opendata.cern.ch/record/4900/files/B2HHH_MagnetDown.root ). In the end you can compare the two figures from the two data sets.\n",
        "* If you're feeling **really** adventurous you could look for this effect in a different decay - $B^+ \\rightarrow K^+\\pi^-\\pi^-$. Here you can look for events with good percentages of one Kaon and two pions, and then compare the PID values of each to decide which of the particles should be the Kaon, then conduct similar steps. \n",
        "\n"
      ]
    }
  ]
}