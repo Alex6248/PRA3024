{
  "nbformat": 4,
  "nbformat_minor": 0,
  "metadata": {
    "colab": {
      "name": "LHCb_Part_2.ipynb",
      "provenance": [],
      "authorship_tag": "ABX9TyOr+Gs05oJHJzWgds6vOb/Y"
    },
    "kernelspec": {
      "name": "python3",
      "display_name": "Python 3"
    }
  },
  "cells": [
    {
      "cell_type": "markdown",
      "metadata": {
        "id": "9adAXDPeUZBJ",
        "colab_type": "text"
      },
      "source": [
        "Having discovered all of the relevant information about our daughter particles, we need to combine the measurements about them into a single mother - which will be our B<sup>+</sup> or our B<sup>-</sup>"
      ]
    },
    {
      "cell_type": "code",
      "metadata": {
        "id": "ueW4g54YT-QI",
        "colab_type": "code",
        "colab": {}
      },
      "source": [
        "#Calculate the energy of the B meson, using the conservation of energy - just combine the energies to give a total"
      ],
      "execution_count": 0,
      "outputs": []
    },
    {
      "cell_type": "code",
      "metadata": {
        "id": "fRy7qTnyU0Eg",
        "colab_type": "code",
        "colab": {}
      },
      "source": [
        "#Calculate the momentum of the B meson. To do this, you need to first combine all the x momenta of the daughters,\n",
        "#to get a total x momentum of the mother; then you can combine your three momenta into total momentum"
      ],
      "execution_count": 0,
      "outputs": []
    },
    {
      "cell_type": "markdown",
      "metadata": {
        "id": "F_9IfvS1VLb5",
        "colab_type": "text"
      },
      "source": [
        "Having found our momentum and energy, we can use these quantities to find our experimental mass (not the theoretical mass as we used earlier for the Kaon calculations).\n",
        "\n",
        "When we calculate this, we will get a distribution of masses. This is due to errors in the measurements made either by the detector, or in the experiment itself. We hope to have a reasonably narrow peak to work with, but, sometimes this is not possible."
      ]
    },
    {
      "cell_type": "code",
      "metadata": {
        "id": "9G70ILKOVKyE",
        "colab_type": "code",
        "colab": {}
      },
      "source": [
        "#Use the energy of the B meson and momentum of the B meson as inputs and\n",
        "#calculate the mass of the B meson (Found by analysis of the daughter products)"
      ],
      "execution_count": 0,
      "outputs": []
    },
    {
      "cell_type": "code",
      "metadata": {
        "id": "E_ZaH2YOy1Qr",
        "colab_type": "code",
        "colab": {}
      },
      "source": [
        "#Now plot a histogram of the range of masses of the B meson.\n",
        "#Does this match what we would expect from theory?"
      ],
      "execution_count": 0,
      "outputs": []
    },
    {
      "cell_type": "markdown",
      "metadata": {
        "id": "6U7IbiIRyzu0",
        "colab_type": "text"
      },
      "source": [
        "We know that some of our particles are the B<sup>+</sup> and some are the B<sup>-</sup> particle. There will also be some particles in our system that are not coming from a genuine B<sup>+/-</sup> or are a B<sup>+/-</sup> but are not constructed from Kaons.\n",
        "\n",
        "We have some tools available to help:-\n",
        "\n",
        "\n",
        "\n",
        "*   During detection, software attributes the probability of a particle being a Kaon or a Pion (in the ```H1_ProbK``` or ```H1_ProbPi``` variable)\n",
        "*   The detector also knows if the particle was a Muon - since it has detectors specifically for these. So it can attribute a 0 or a 1 to this probability\n",
        "*   The reconstructed vertex has a some kind of quality associated with it (we call this the Vertex $\\chi^2$ (this is the variable ```B_VertexChi2```). This is the statistical measure that determines how well we found a single point to be the source of all three particles.\n"
      ]
    },
    {
      "cell_type": "markdown",
      "metadata": {
        "id": "TrsjhxsVy0FA",
        "colab_type": "text"
      },
      "source": [
        "In order to get a better result, we should select our data to have the properties we desire and make some rules (often called a selection) to cut away data we don't want to include for various reasons. e.g. we know we don't have *any muons* in our decay - so any time H1/H2/H3 are a muon they should be excluded. The other variables are not so clear - so we can plot them to make a decision."
      ]
    },
    {
      "cell_type": "code",
      "metadata": {
        "id": "4hVd4sFS6Zcb",
        "colab_type": "code",
        "colab": {}
      },
      "source": [
        "#Make plots of H1/H2/H3 _ProbK on one plot\n",
        "#Make plots of H1/H2/H3 _ProbPi on one plot\n",
        "#For all our particles, make a plot of the B_VertexChi2"
      ],
      "execution_count": 0,
      "outputs": []
    },
    {
      "cell_type": "markdown",
      "metadata": {
        "id": "lqaslqxm7Zrr",
        "colab_type": "text"
      },
      "source": [
        "Using these plots, we can now make a preselection string. This is a text string that looks like "
      ]
    },
    {
      "cell_type": "code",
      "metadata": {
        "id": "oOzibmfc70Dq",
        "colab_type": "code",
        "colab": {}
      },
      "source": [
        "#This example is for each daughter particle to have a Probability of being a Pion being more than 90% and H1 to not be a muon\n",
        "#This is not a good choice of selection - you should make your own :)\n",
        "selection=(\"H1_ProbPi>0.9&H2_ProbPi>0.9&H3_ProbPi>0.9&!H1_isMuon\")"
      ],
      "execution_count": 0,
      "outputs": []
    },
    {
      "cell_type": "code",
      "metadata": {
        "id": "4myWrw_H8kFW",
        "colab_type": "code",
        "colab": {}
      },
      "source": [
        "#To apply the selection - we can use the copytree command:\n",
        "\n",
        "CutTree=tree.CopyTree(selection)\n",
        "\n",
        "#So now we take our data in tree and apply selection to it (so only events which comply with those rules are kept) and put the new data in CutTree"
      ],
      "execution_count": 0,
      "outputs": []
    },
    {
      "cell_type": "code",
      "metadata": {
        "id": "q1JFJ3cB9xSw",
        "colab_type": "code",
        "colab": {}
      },
      "source": [
        "#Now as a good check, we should see the effect of applying our cuts.\n",
        "#On one histogram, plot the B meson mass, from both the tree (pre-cuts) and the CutTree (post-cuts)\n",
        "#What do you notice about your histogram now?"
      ],
      "execution_count": 0,
      "outputs": []
    },
    {
      "cell_type": "markdown",
      "metadata": {
        "id": "JK5DffJL_-y9",
        "colab_type": "text"
      },
      "source": [
        "#How do we count the number of events?\n",
        "\n",
        "We now have a histogram of events that we have reconstructed as a B meson. But some of these events are caused by a co-incidence of events which would still occur if there were no B mesons actually produced. We call this the background. Background and signal are indistinguishable now as the detector cannot tell the difference and our cuts were unable to remove the events for physics reasons. We can do some statistical analysis, if we know the approximate shapes of our signal and our background. Just like a least-squares fitting we can run a fit routine to minimise the error between the fitted curve and our data. As an example, if we know our data has an exponential background and a gaussian signal:\n",
        "\n",
        "![Gaussian+Exp Background](https://twiki.cern.ch/twiki/pub/RooStats/RooStatsTutorialsJune2013/GausExpModelFit.png)\n",
        "\n",
        "Here the red line represents our signal, the blue dotted line is our background and the solid blue line is our combined curve. The graph also shows the number of signal events and the number of background events. The signal now is a tiny fraction of the total data shown in the plot.\n",
        "\n",
        "In order to do this, we need to build a fit model, around which the software can try to fit our data.\n",
        "\n",
        "We use RooFit for this, which includes:\n",
        "* Gaussian\n",
        "* Exponential\n",
        "* Chebychev\n",
        "* Crystal Ball\n",
        "* Breit-Wigner\n",
        "\n",
        "As well as several other choices.\n",
        "\n",
        "Typically exponential and Chebychev functions are used for background and Gaussian, Crystal Ball and Breit-Wigner are used for signal. We can also combine them (e.g. 1 crystal ball, 1 gaussian, 1 exponential) in various ways."
      ]
    },
    {
      "cell_type": "code",
      "metadata": {
        "id": "5JoUxwSRMCvy",
        "colab_type": "code",
        "colab": {}
      },
      "source": [
        "#First we define our physical measurement we want to fit using the RooRealVar\n",
        "# variable=ROOT.RooRealVar =(\"Variable from Python\", \"Nickname\",Min, Max, Units)\n",
        "mass= ROOT.RooRealVar=(\"B_Mass\", \"Mass\", 5200, 5300, \"MeV/C^{2}\")\n",
        "\n",
        "#The remainder of the variables we need to pass into our model. E.g. for a gaussian, we need a mean and a width parameter to vary\n",
        "#For these RooRealVar's we add three numbers, a \"starting value\" and min/max values\n",
        "\n",
        "gauss_mean=ROOT.RooRealVar(\"gauss_mean\",\"Mean\",5270,5220,5300)\n",
        "gauss_width=ROOT.RooRealVar(\"gauss_width\",\"Width\",3,0,60)\n",
        "\n",
        "#Now we have enough to make our Model for the signal:\n",
        "\n",
        "Gauss=ROOT.RooGaussian(\"Gaussian Signal\",\"Gauss\",mass,gauss_mean,gauss_width)\n",
        "\n",
        "#We also need a background, so let's use a (simple) exponential:\n",
        "\n",
        "exponent=ROOT.RooRealVar(\"exponent\", \"C\", -0.02, -2, +2)\n",
        "\n",
        "#Define the  model for the background:\n",
        "\n",
        "Bkgnd=ROOT.RooExponential(\"Exponential Background\",\"Bkgnd\",mass,exponent)\n",
        "\n",
        "#Now we need to combine these two functions into a single PDF (probability density function)\n",
        "#and we need to add a scaling factor to fit what ratio of the two are used:\n",
        "\n",
        "sig_frac=ROOT.RooRealVar(\"Signal Fraction\",\"sigfrac\", 0.5, 0, 1)\n",
        "\n",
        "model=ROOT.RooAddPdf(\"Full Model\",\"model\",ROOT.RooArgList(Gauss,Bkgnd),sig_frac)"
      ],
      "execution_count": 0,
      "outputs": []
    },
    {
      "cell_type": "code",
      "metadata": {
        "id": "srfAXdjmRP7Q",
        "colab_type": "code",
        "colab": {}
      },
      "source": [
        "#Put our data set into a RooDataSet structure\n",
        "\n",
        "data_to_fit=ROOT.RooDataSet(\"Data Set\",\"data_to_fit\", CutTree, mass)\n",
        "\n",
        "#Then we can do the fitting:\n",
        "\n",
        "model.fitTo(data_to_fit)\n",
        "\n",
        "#if everything went well, you will see the outputs of RooFit below"
      ],
      "execution_count": 0,
      "outputs": []
    },
    {
      "cell_type": "code",
      "metadata": {
        "id": "ojuQRL1uR9Xv",
        "colab_type": "code",
        "colab": {}
      },
      "source": [
        "#Now to plot it all\n",
        "c1=ROOT.TCanvas(\"c1\",\"c1\")\n",
        "frame=mass.frame()\n",
        "data_to_fit.plotOn(frame)\n",
        "model.plotOn(frame, ROOT.RooFit.Components(\"Gauss\"),ROOT.RooFit.LineColor(8),ROOT.RooFit.LineStyle(2))\n",
        "model.plotOn(frame, ROOT.RooFit.Components(\"Bkgnd\"),ROOT.RooFit.LineColor(46),ROOT.RooFit.LineStyle(2))\n",
        "model.plotOn(frame)\n",
        "frame.Draw()\n",
        "c1.Update()"
      ],
      "execution_count": 0,
      "outputs": []
    },
    {
      "cell_type": "markdown",
      "metadata": {
        "id": "rAATO2QzWtk4",
        "colab_type": "text"
      },
      "source": [
        "Using this structure, you can in theory build whatever models you like!\n",
        "\n",
        "Some recommendations (but not necessary to do all):-\n",
        "\n",
        "\n",
        "\n",
        "*   Gauss+Exponential (as above)\n",
        "*   Crystal Ball + Exponential\n",
        "*   Gauss+Crystal Ball+Exponential (now you need to weigh the two signal peaks and then the total signal against total background)\n",
        "*   Gauss+Chebychev\n",
        "*   Two Crystal Balls + Exponential"
      ]
    },
    {
      "cell_type": "code",
      "metadata": {
        "id": "wuR_0WlQXMSd",
        "colab_type": "code",
        "colab": {}
      },
      "source": [
        "#Build your own models here"
      ],
      "execution_count": 0,
      "outputs": []
    },
    {
      "cell_type": "markdown",
      "metadata": {
        "id": "2ZHLsU60XPG6",
        "colab_type": "text"
      },
      "source": [
        "So how good was the fit, and how many events do you have?\n",
        "\n",
        "We can use the ```.getValV()``` function on our signal and background components, e.g. ```signal_yield=Gauss.getValV()```\n",
        "\n",
        "To find the error (on this number) we can use ```.getError()```\n",
        "\n",
        "Neither of these measures would tell us if this was a good fit or not. Normally we use a $\\chi^2$ test to do so - this is built into the image we made (so we can do ```frame.chiSquare()``` to get this data)\n",
        "\n",
        "For each model you made, print the signal and background yields (with errors) and report the $\\chi^2$"
      ]
    }
  ]
}