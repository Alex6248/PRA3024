{
  "nbformat": 4,
  "nbformat_minor": 0,
  "metadata": {
    "colab": {
      "name": "LHCb_Part_2.ipynb",
      "provenance": [],
      "authorship_tag": "ABX9TyOmRu+9X3pBHq+q6gB0Nb2K"
    },
    "kernelspec": {
      "name": "python3",
      "display_name": "Python 3"
    }
  },
  "cells": [
    {
      "cell_type": "markdown",
      "metadata": {
        "id": "9adAXDPeUZBJ",
        "colab_type": "text"
      },
      "source": [
        "Having discovered all of the relevant information about our daughter particles, we need to combine the measurements about them into a single mother - which will be our B<sup>+</sup> or our B<sup>-</sup>"
      ]
    },
    {
      "cell_type": "code",
      "metadata": {
        "id": "ueW4g54YT-QI",
        "colab_type": "code",
        "colab": {}
      },
      "source": [
        "#Calculate the energy of the B meson, using the conservation of energy - just combine the energies to give a total"
      ],
      "execution_count": 0,
      "outputs": []
    },
    {
      "cell_type": "code",
      "metadata": {
        "id": "fRy7qTnyU0Eg",
        "colab_type": "code",
        "colab": {}
      },
      "source": [
        "#Calculate the momentum of the B meson. To do this, you need to first combine all the x momenta of the daughters,\n",
        "#to get a total x momentum of the mother; then you can combine your three momenta into total momentum"
      ],
      "execution_count": 0,
      "outputs": []
    },
    {
      "cell_type": "markdown",
      "metadata": {
        "id": "F_9IfvS1VLb5",
        "colab_type": "text"
      },
      "source": [
        "Having found our momentum and energy, we can use these quantities to find our experimental mass (not the theoretical mass as we used earlier for the Kaon calculations).\n",
        "\n",
        "When we calculate this, we will get a distribution of masses. This is due to errors in the measurements made either by the detector, or in the experiment itself. We hope to have a reasonably narrow peak to work with, but, sometimes this is not possible."
      ]
    },
    {
      "cell_type": "code",
      "metadata": {
        "id": "9G70ILKOVKyE",
        "colab_type": "code",
        "colab": {}
      },
      "source": [
        ""
      ],
      "execution_count": 0,
      "outputs": []
    }
  ]
}